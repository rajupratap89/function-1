{
 "cells": [
  {
   "cell_type": "code",
   "execution_count": 1,
   "id": "6e01cf09-552d-4fa7-976a-48415f4854ef",
   "metadata": {},
   "outputs": [],
   "source": [
    "l=[1,2,34,5]"
   ]
  },
  {
   "cell_type": "code",
   "execution_count": 2,
   "id": "33460f05-e4b4-4067-948e-fa914ed164d9",
   "metadata": {},
   "outputs": [
    {
     "data": {
      "text/plain": [
       "list"
      ]
     },
     "execution_count": 2,
     "metadata": {},
     "output_type": "execute_result"
    }
   ],
   "source": [
    "type(l)"
   ]
  },
  {
   "cell_type": "code",
   "execution_count": 3,
   "id": "a5e3ba68-eab9-473f-98a9-c8f963f7735f",
   "metadata": {},
   "outputs": [
    {
     "data": {
      "text/plain": [
       "4"
      ]
     },
     "execution_count": 3,
     "metadata": {},
     "output_type": "execute_result"
    }
   ],
   "source": [
    "len(l)"
   ]
  },
  {
   "cell_type": "code",
   "execution_count": 6,
   "id": "6e943cc1-c505-4fcf-80ed-451d33fe0fde",
   "metadata": {},
   "outputs": [],
   "source": [
    "def test():\n",
    "    pass"
   ]
  },
  {
   "cell_type": "code",
   "execution_count": 5,
   "id": "85cfc327-ad76-4b8e-a6e4-e3b5f0dbce3b",
   "metadata": {},
   "outputs": [],
   "source": [
    "def test1():\n",
    "    print(\"i'm raju pratap\")"
   ]
  },
  {
   "cell_type": "code",
   "execution_count": 8,
   "id": "fe3e3604-c939-439f-89c1-e3f5de16be08",
   "metadata": {},
   "outputs": [
    {
     "name": "stdout",
     "output_type": "stream",
     "text": [
      "i'm raju pratap\n"
     ]
    }
   ],
   "source": [
    "test1()"
   ]
  },
  {
   "cell_type": "code",
   "execution_count": 9,
   "id": "7f7447e9-74cb-4988-a4d6-a605d7b28df0",
   "metadata": {},
   "outputs": [
    {
     "name": "stdout",
     "output_type": "stream",
     "text": [
      "i'm raju pratap\n"
     ]
    },
    {
     "ename": "TypeError",
     "evalue": "unsupported operand type(s) for +: 'NoneType' and 'str'",
     "output_type": "error",
     "traceback": [
      "\u001b[0;31m---------------------------------------------------------------------------\u001b[0m",
      "\u001b[0;31mTypeError\u001b[0m                                 Traceback (most recent call last)",
      "Cell \u001b[0;32mIn[9], line 1\u001b[0m\n\u001b[0;32m----> 1\u001b[0m \u001b[43mtest1\u001b[49m\u001b[43m(\u001b[49m\u001b[43m)\u001b[49m\u001b[38;5;241;43m+\u001b[39;49m\u001b[38;5;124;43m\"\u001b[39;49m\u001b[38;5;124;43mraj\u001b[39;49m\u001b[38;5;124;43m\"\u001b[39;49m\n",
      "\u001b[0;31mTypeError\u001b[0m: unsupported operand type(s) for +: 'NoneType' and 'str'"
     ]
    }
   ],
   "source": [
    "test1()+\"raj\""
   ]
  },
  {
   "cell_type": "code",
   "execution_count": 10,
   "id": "5aaced53-3001-4716-a9d5-5c911948f426",
   "metadata": {},
   "outputs": [],
   "source": [
    "def test2():\n",
    "    return \"this is a code\""
   ]
  },
  {
   "cell_type": "code",
   "execution_count": 11,
   "id": "0d08231d-1d11-4d4c-b3ac-90ce668822a0",
   "metadata": {},
   "outputs": [
    {
     "data": {
      "text/plain": [
       "'this is a code'"
      ]
     },
     "execution_count": 11,
     "metadata": {},
     "output_type": "execute_result"
    }
   ],
   "source": [
    "test2()"
   ]
  },
  {
   "cell_type": "code",
   "execution_count": 14,
   "id": "da357d16-0267-4bbe-923b-efefb8a604bf",
   "metadata": {},
   "outputs": [
    {
     "data": {
      "text/plain": [
       "'this is a coderaj'"
      ]
     },
     "execution_count": 14,
     "metadata": {},
     "output_type": "execute_result"
    }
   ],
   "source": [
    "test2() + \"raj\""
   ]
  },
  {
   "cell_type": "code",
   "execution_count": 15,
   "id": "b17d659d-4d0b-49a5-8b7a-798c822dc9d2",
   "metadata": {},
   "outputs": [],
   "source": [
    "def test3():\n",
    "    \n",
    "    return \"raj\",452,450.23,True,[1,2,3,4,5]"
   ]
  },
  {
   "cell_type": "code",
   "execution_count": 16,
   "id": "211f684e-e766-47fb-87c7-7cf9485ab3a0",
   "metadata": {},
   "outputs": [
    {
     "data": {
      "text/plain": [
       "('raj', 452, 450.23, True, [1, 2, 3, 4, 5])"
      ]
     },
     "execution_count": 16,
     "metadata": {},
     "output_type": "execute_result"
    }
   ],
   "source": [
    "test3()"
   ]
  },
  {
   "cell_type": "code",
   "execution_count": 17,
   "id": "dfc0d5e2-ed05-457e-8a5f-6d8c7d4e2923",
   "metadata": {},
   "outputs": [],
   "source": [
    "a,b,c,d,e =test3()"
   ]
  },
  {
   "cell_type": "code",
   "execution_count": 18,
   "id": "fdec7a01-ecca-4474-887d-49a6cfbdcf18",
   "metadata": {},
   "outputs": [
    {
     "data": {
      "text/plain": [
       "450.23"
      ]
     },
     "execution_count": 18,
     "metadata": {},
     "output_type": "execute_result"
    }
   ],
   "source": [
    "c"
   ]
  },
  {
   "cell_type": "code",
   "execution_count": 19,
   "id": "6db6bde1-6e06-4a75-8733-8fa19589139c",
   "metadata": {},
   "outputs": [
    {
     "data": {
      "text/plain": [
       "True"
      ]
     },
     "execution_count": 19,
     "metadata": {},
     "output_type": "execute_result"
    }
   ],
   "source": [
    "d"
   ]
  },
  {
   "cell_type": "code",
   "execution_count": 20,
   "id": "f2a00821-41b1-4bbc-8c66-2813bc50923c",
   "metadata": {},
   "outputs": [
    {
     "data": {
      "text/plain": [
       "[1, 2, 3, 4, 5]"
      ]
     },
     "execution_count": 20,
     "metadata": {},
     "output_type": "execute_result"
    }
   ],
   "source": [
    "e"
   ]
  },
  {
   "cell_type": "code",
   "execution_count": 21,
   "id": "f482070a-97df-479c-a7b7-11fe8506062a",
   "metadata": {},
   "outputs": [
    {
     "data": {
      "text/plain": [
       "'raj'"
      ]
     },
     "execution_count": 21,
     "metadata": {},
     "output_type": "execute_result"
    }
   ],
   "source": [
    "a"
   ]
  },
  {
   "cell_type": "code",
   "execution_count": 22,
   "id": "91d3400b-b6bd-4120-a365-1fab00a5e7c0",
   "metadata": {},
   "outputs": [],
   "source": [
    "def test4():\n",
    "    a = 5-7/4\n",
    "    return a"
   ]
  },
  {
   "cell_type": "code",
   "execution_count": 26,
   "id": "46c4b414-be9a-49a5-8c42-58ede18c3402",
   "metadata": {},
   "outputs": [
    {
     "data": {
      "text/plain": [
       "3.25"
      ]
     },
     "execution_count": 26,
     "metadata": {},
     "output_type": "execute_result"
    }
   ],
   "source": [
    "test4() "
   ]
  },
  {
   "cell_type": "code",
   "execution_count": 29,
   "id": "7de62155-fd32-45e8-9949-54ef1e8a858c",
   "metadata": {},
   "outputs": [
    {
     "ename": "ValueError",
     "evalue": "invalid literal for int() with base 10: 'raju'",
     "output_type": "error",
     "traceback": [
      "\u001b[0;31m---------------------------------------------------------------------------\u001b[0m",
      "\u001b[0;31mValueError\u001b[0m                                Traceback (most recent call last)",
      "Cell \u001b[0;32mIn[29], line 1\u001b[0m\n\u001b[0;32m----> 1\u001b[0m test4()\u001b[38;5;241m+\u001b[39m\u001b[38;5;28;43mint\u001b[39;49m\u001b[43m(\u001b[49m\u001b[38;5;124;43m\"\u001b[39;49m\u001b[38;5;124;43mraju\u001b[39;49m\u001b[38;5;124;43m\"\u001b[39;49m\u001b[43m)\u001b[49m\n",
      "\u001b[0;31mValueError\u001b[0m: invalid literal for int() with base 10: 'raju'"
     ]
    }
   ],
   "source": [
    "test4()+int(\"raju\")"
   ]
  },
  {
   "cell_type": "code",
   "execution_count": 30,
   "id": "d19aab45-9ffa-4a7e-ad41-8d9c08f2fb7c",
   "metadata": {},
   "outputs": [],
   "source": [
    "def test5(b,c,d):\n",
    "    e = c-d/b\n",
    "    return e"
   ]
  },
  {
   "cell_type": "code",
   "execution_count": 31,
   "id": "a090aea1-da12-4e1e-9e68-358b96410ccf",
   "metadata": {},
   "outputs": [
    {
     "ename": "TypeError",
     "evalue": "test5() missing 3 required positional arguments: 'b', 'c', and 'd'",
     "output_type": "error",
     "traceback": [
      "\u001b[0;31m---------------------------------------------------------------------------\u001b[0m",
      "\u001b[0;31mTypeError\u001b[0m                                 Traceback (most recent call last)",
      "Cell \u001b[0;32mIn[31], line 1\u001b[0m\n\u001b[0;32m----> 1\u001b[0m \u001b[43mtest5\u001b[49m\u001b[43m(\u001b[49m\u001b[43m)\u001b[49m\n",
      "\u001b[0;31mTypeError\u001b[0m: test5() missing 3 required positional arguments: 'b', 'c', and 'd'"
     ]
    }
   ],
   "source": [
    "test5()"
   ]
  },
  {
   "cell_type": "code",
   "execution_count": 33,
   "id": "75cf8444-69f1-47dc-a0cc-3f57ea4918da",
   "metadata": {},
   "outputs": [
    {
     "data": {
      "text/plain": [
       "3.0"
      ]
     },
     "execution_count": 33,
     "metadata": {},
     "output_type": "execute_result"
    }
   ],
   "source": [
    "test5(3,5,6)"
   ]
  },
  {
   "cell_type": "code",
   "execution_count": 34,
   "id": "f86666eb-6e5d-462c-9577-de71a8da6135",
   "metadata": {},
   "outputs": [],
   "source": [
    "def test6(a,b):\n",
    "    return a+b"
   ]
  },
  {
   "cell_type": "code",
   "execution_count": 36,
   "id": "d0365219-6c1d-4400-ad59-ec7a67d2cf41",
   "metadata": {},
   "outputs": [
    {
     "data": {
      "text/plain": [
       "9"
      ]
     },
     "execution_count": 36,
     "metadata": {},
     "output_type": "execute_result"
    }
   ],
   "source": [
    "test6(5,4)"
   ]
  },
  {
   "cell_type": "code",
   "execution_count": 38,
   "id": "bf60f971-7174-4996-9618-1b94d62d9286",
   "metadata": {},
   "outputs": [
    {
     "data": {
      "text/plain": [
       "'rajupratap'"
      ]
     },
     "execution_count": 38,
     "metadata": {},
     "output_type": "execute_result"
    }
   ],
   "source": [
    "test6(\"raju\" ,\"pratap\")"
   ]
  },
  {
   "cell_type": "code",
   "execution_count": 39,
   "id": "fa68bc8f-ddc9-4ff2-b1ec-ab2b33e783df",
   "metadata": {},
   "outputs": [
    {
     "data": {
      "text/plain": [
       "[1, 2, 4, 5, 6, 7, 8, 4, 56]"
      ]
     },
     "execution_count": 39,
     "metadata": {},
     "output_type": "execute_result"
    }
   ],
   "source": [
    "test6([1,2,4,5,6],[7,8,4,56])"
   ]
  },
  {
   "cell_type": "code",
   "execution_count": 49,
   "id": "fd218495-00c6-43a0-b6ed-9930e42c1fa6",
   "metadata": {},
   "outputs": [],
   "source": [
    "m=[1,2,345,\"raju\",[4,5,6,7]]"
   ]
  },
  {
   "cell_type": "code",
   "execution_count": 50,
   "id": "36302dc7-d080-4cfe-b20b-45fcb40632d8",
   "metadata": {},
   "outputs": [],
   "source": [
    "m1 =[]\n",
    "for i in m:\n",
    "    if type(i)==int or type(i)==float:\n",
    "        m1.append(i)\n",
    "    "
   ]
  },
  {
   "cell_type": "code",
   "execution_count": 51,
   "id": "4b7a8cee-f12e-42a8-9a34-8510f0e589ea",
   "metadata": {},
   "outputs": [
    {
     "data": {
      "text/plain": [
       "[1, 2, 345]"
      ]
     },
     "execution_count": 51,
     "metadata": {},
     "output_type": "execute_result"
    }
   ],
   "source": [
    "m1"
   ]
  },
  {
   "cell_type": "code",
   "execution_count": 55,
   "id": "efb799cf-ae55-475d-acc2-0a82d89f9729",
   "metadata": {},
   "outputs": [],
   "source": [
    "def test7():\n",
    "    m1 =[]\n",
    "    for i in m:\n",
    "        if type(i)==int or type(i)==float:\n",
    "            m1.append(i)\n",
    "    return m1\n"
   ]
  },
  {
   "cell_type": "code",
   "execution_count": 56,
   "id": "8d9023cd-62a6-4921-8b96-84616679f391",
   "metadata": {},
   "outputs": [
    {
     "data": {
      "text/plain": [
       "[1, 2, 345]"
      ]
     },
     "execution_count": 56,
     "metadata": {},
     "output_type": "execute_result"
    }
   ],
   "source": [
    "test7()"
   ]
  },
  {
   "cell_type": "code",
   "execution_count": 57,
   "id": "4b32a0e4-f414-4aee-a8b0-d9602f052344",
   "metadata": {},
   "outputs": [
    {
     "data": {
      "text/plain": [
       "[1, 2, 345, 'raju', [4, 5, 6, 7]]"
      ]
     },
     "execution_count": 57,
     "metadata": {},
     "output_type": "execute_result"
    }
   ],
   "source": [
    "m"
   ]
  },
  {
   "cell_type": "code",
   "execution_count": 12,
   "id": "cc708239-1945-4d78-8f6c-6a83051711cf",
   "metadata": {},
   "outputs": [],
   "source": [
    "def test8(a):\n",
    "    m=[]\n",
    "    for i in m:\n",
    "        if type(i)==list:\n",
    "            for j in i:\n",
    "                m.append(j)\n",
    "    else:\n",
    "        if type(i) ==int or type(i)==float:\n",
    "                    m.append(i)\n",
    "    return m\n",
    "            \n",
    "           \n",
    "                    "
   ]
  },
  {
   "cell_type": "code",
   "execution_count": 19,
   "id": "a61ded94-bdde-49a1-bd11-808ceeb57358",
   "metadata": {},
   "outputs": [
    {
     "ename": "NameError",
     "evalue": "name 'm' is not defined",
     "output_type": "error",
     "traceback": [
      "\u001b[0;31m---------------------------------------------------------------------------\u001b[0m",
      "\u001b[0;31mNameError\u001b[0m                                 Traceback (most recent call last)",
      "Cell \u001b[0;32mIn[19], line 1\u001b[0m\n\u001b[0;32m----> 1\u001b[0m test8(\u001b[43mm\u001b[49m)\n",
      "\u001b[0;31mNameError\u001b[0m: name 'm' is not defined"
     ]
    }
   ],
   "source": [
    "test8(m)"
   ]
  },
  {
   "cell_type": "code",
   "execution_count": 22,
   "id": "ad1da3f6-4c12-4723-a821-2f5131fe60c1",
   "metadata": {},
   "outputs": [],
   "source": [
    "def test9(a):\n",
    "    \"\"\"this is my function to extract num data from list\"\"\"\n",
    "    m=[]\n",
    "    for i in m:\n",
    "        if type(i)==list:\n",
    "            for j in i:\n",
    "                m.append(j)\n",
    "    else:\n",
    "        if type(i) ==int or type(i)==float:\n",
    "                    m.append(i)\n",
    "    return m"
   ]
  },
  {
   "cell_type": "code",
   "execution_count": null,
   "id": "e9cc5a83-1d07-4077-835b-fe09df27b3e5",
   "metadata": {},
   "outputs": [],
   "source": [
    "test9()"
   ]
  },
  {
   "cell_type": "code",
   "execution_count": 23,
   "id": "bc233dc7-5d51-42d9-a441-58b5343057c9",
   "metadata": {},
   "outputs": [],
   "source": [
    "def test10(a,b):\n",
    "    return a+b"
   ]
  },
  {
   "cell_type": "code",
   "execution_count": 24,
   "id": "1e1bf3b8-e0fe-497a-b13a-8339f084c304",
   "metadata": {},
   "outputs": [],
   "source": [
    "def test11(*args):\n",
    "    return args"
   ]
  },
  {
   "cell_type": "code",
   "execution_count": 26,
   "id": "73d35afa-b144-48f4-97e3-7495f4c2cbab",
   "metadata": {},
   "outputs": [
    {
     "data": {
      "text/plain": [
       "tuple"
      ]
     },
     "execution_count": 26,
     "metadata": {},
     "output_type": "execute_result"
    }
   ],
   "source": [
    "type(test11(1,2,3))"
   ]
  },
  {
   "cell_type": "code",
   "execution_count": 27,
   "id": "60cea403-5098-4a85-ab92-4c4f37a08d3f",
   "metadata": {},
   "outputs": [
    {
     "data": {
      "text/plain": [
       "(1, 2, 3, 4, 'raju', 45.12, True)"
      ]
     },
     "execution_count": 27,
     "metadata": {},
     "output_type": "execute_result"
    }
   ],
   "source": [
    "test11(1,2,3,4,\"raju\",45.12,True)"
   ]
  },
  {
   "cell_type": "code",
   "execution_count": 28,
   "id": "829dd19c-5b08-43a4-9ea3-c4ce09bf44e3",
   "metadata": {},
   "outputs": [],
   "source": [
    "def test12(*raju):\n",
    "    return raju"
   ]
  },
  {
   "cell_type": "code",
   "execution_count": 29,
   "id": "9afb6dce-4f6b-4e89-b322-833fd1ba1ed4",
   "metadata": {},
   "outputs": [
    {
     "data": {
      "text/plain": [
       "(0, 123, 1, 2)"
      ]
     },
     "execution_count": 29,
     "metadata": {},
     "output_type": "execute_result"
    }
   ],
   "source": [
    "test12(0,123,1,2)"
   ]
  },
  {
   "cell_type": "code",
   "execution_count": 30,
   "id": "9e3dfb91-3b93-43bd-a3c9-cabc195d51d3",
   "metadata": {},
   "outputs": [],
   "source": [
    "def test13(*args ,a ):\n",
    "    return args,a"
   ]
  },
  {
   "cell_type": "code",
   "execution_count": 31,
   "id": "b16e7de1-f2d2-4062-aba3-f511b0f00569",
   "metadata": {},
   "outputs": [
    {
     "ename": "TypeError",
     "evalue": "test13() missing 1 required keyword-only argument: 'a'",
     "output_type": "error",
     "traceback": [
      "\u001b[0;31m---------------------------------------------------------------------------\u001b[0m",
      "\u001b[0;31mTypeError\u001b[0m                                 Traceback (most recent call last)",
      "Cell \u001b[0;32mIn[31], line 1\u001b[0m\n\u001b[0;32m----> 1\u001b[0m \u001b[43mtest13\u001b[49m\u001b[43m(\u001b[49m\u001b[38;5;241;43m12\u001b[39;49m\u001b[43m,\u001b[49m\u001b[38;5;241;43m1\u001b[39;49m\u001b[43m)\u001b[49m\n",
      "\u001b[0;31mTypeError\u001b[0m: test13() missing 1 required keyword-only argument: 'a'"
     ]
    }
   ],
   "source": [
    "test13(12,1)"
   ]
  },
  {
   "cell_type": "code",
   "execution_count": 33,
   "id": "44881d3a-00e9-4425-8cf0-9a5d0c51cfb9",
   "metadata": {},
   "outputs": [
    {
     "data": {
      "text/plain": [
       "((1, 23, 25, 25), 23)"
      ]
     },
     "execution_count": 33,
     "metadata": {},
     "output_type": "execute_result"
    }
   ],
   "source": [
    "test13(1,23,25,25, a=23)"
   ]
  },
  {
   "cell_type": "code",
   "execution_count": 34,
   "id": "20d325d3-6bd6-46ae-9363-959199ea498c",
   "metadata": {},
   "outputs": [],
   "source": [
    "def test14(c,d, a=12, b=20):\n",
    "    return a,b,c,d"
   ]
  },
  {
   "cell_type": "code",
   "execution_count": 35,
   "id": "f7446b44-be05-43bd-b007-4ded2731153e",
   "metadata": {},
   "outputs": [
    {
     "ename": "TypeError",
     "evalue": "test14() missing 2 required positional arguments: 'c' and 'd'",
     "output_type": "error",
     "traceback": [
      "\u001b[0;31m---------------------------------------------------------------------------\u001b[0m",
      "\u001b[0;31mTypeError\u001b[0m                                 Traceback (most recent call last)",
      "Cell \u001b[0;32mIn[35], line 1\u001b[0m\n\u001b[0;32m----> 1\u001b[0m \u001b[43mtest14\u001b[49m\u001b[43m(\u001b[49m\u001b[43m)\u001b[49m\n",
      "\u001b[0;31mTypeError\u001b[0m: test14() missing 2 required positional arguments: 'c' and 'd'"
     ]
    }
   ],
   "source": [
    "test14()"
   ]
  },
  {
   "cell_type": "code",
   "execution_count": 36,
   "id": "214055da-173d-4925-8fdb-d838506fe4f5",
   "metadata": {},
   "outputs": [
    {
     "data": {
      "text/plain": [
       "(12, 20, 3, 4)"
      ]
     },
     "execution_count": 36,
     "metadata": {},
     "output_type": "execute_result"
    }
   ],
   "source": [
    "test14(3,4)"
   ]
  },
  {
   "cell_type": "code",
   "execution_count": 37,
   "id": "555d65fc-29a0-414f-92e4-79622b45c16b",
   "metadata": {},
   "outputs": [],
   "source": [
    "def test15(**kwargs):\n",
    "    return kwargs"
   ]
  },
  {
   "cell_type": "code",
   "execution_count": 38,
   "id": "982da002-134b-451e-b98a-f70b56fec7d7",
   "metadata": {},
   "outputs": [
    {
     "data": {
      "text/plain": [
       "{}"
      ]
     },
     "execution_count": 38,
     "metadata": {},
     "output_type": "execute_result"
    }
   ],
   "source": [
    "test15()"
   ]
  },
  {
   "cell_type": "code",
   "execution_count": 39,
   "id": "c69de323-b9b0-4fd8-b3d5-42205716de6f",
   "metadata": {},
   "outputs": [
    {
     "data": {
      "text/plain": [
       "dict"
      ]
     },
     "execution_count": 39,
     "metadata": {},
     "output_type": "execute_result"
    }
   ],
   "source": [
    "type(test15())"
   ]
  },
  {
   "cell_type": "code",
   "execution_count": 40,
   "id": "990b3be8-c5da-4a45-89f1-d44d9e5408fe",
   "metadata": {},
   "outputs": [
    {
     "data": {
      "text/plain": [
       "{'a': [1, 23, 3232, 65], 'b': 'raju', 'c': True}"
      ]
     },
     "execution_count": 40,
     "metadata": {},
     "output_type": "execute_result"
    }
   ],
   "source": [
    "test15(a=[1,23,3232,65], b =\"raju\", c=True)"
   ]
  },
  {
   "cell_type": "code",
   "execution_count": 3,
   "id": "3adcc1fd-ae0a-432d-97a8-4503a23a241a",
   "metadata": {},
   "outputs": [],
   "source": [
    "def test20(*raj):\n",
    "    return raj"
   ]
  },
  {
   "cell_type": "code",
   "execution_count": 4,
   "id": "625d610b-2697-43e7-a622-1b4394df163e",
   "metadata": {},
   "outputs": [
    {
     "data": {
      "text/plain": [
       "(1, 2, 3, 4, 5)"
      ]
     },
     "execution_count": 4,
     "metadata": {},
     "output_type": "execute_result"
    }
   ],
   "source": [
    "test20(1,2,3,4,5)"
   ]
  },
  {
   "cell_type": "code",
   "execution_count": 5,
   "id": "bfaea209-2572-4a80-8103-3d1db4f3a1a5",
   "metadata": {},
   "outputs": [],
   "source": [
    "def test21():\n",
    "    return \"this is code\""
   ]
  },
  {
   "cell_type": "code",
   "execution_count": 6,
   "id": "759f54eb-b780-4c9f-ba98-51f46e8e1d95",
   "metadata": {},
   "outputs": [
    {
     "data": {
      "text/plain": [
       "'this is code'"
      ]
     },
     "execution_count": 6,
     "metadata": {},
     "output_type": "execute_result"
    }
   ],
   "source": [
    "test21()"
   ]
  },
  {
   "cell_type": "code",
   "execution_count": null,
   "id": "32403984-2d71-456e-b496-d987461a5f9e",
   "metadata": {},
   "outputs": [],
   "source": []
  }
 ],
 "metadata": {
  "kernelspec": {
   "display_name": "Python 3 (ipykernel)",
   "language": "python",
   "name": "python3"
  },
  "language_info": {
   "codemirror_mode": {
    "name": "ipython",
    "version": 3
   },
   "file_extension": ".py",
   "mimetype": "text/x-python",
   "name": "python",
   "nbconvert_exporter": "python",
   "pygments_lexer": "ipython3",
   "version": "3.10.8"
  }
 },
 "nbformat": 4,
 "nbformat_minor": 5
}
